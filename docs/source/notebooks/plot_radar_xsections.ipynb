{
 "metadata": {
  "language_info": {
   "codemirror_mode": {
    "name": "ipython",
    "version": 3
   },
   "file_extension": ".py",
   "mimetype": "text/x-python",
   "name": "python",
   "nbconvert_exporter": "python",
   "pygments_lexer": "ipython3",
   "version": "3.7.10-final"
  },
  "orig_nbformat": 2,
  "kernelspec": {
   "name": "python371064bitimpactsconda1e72db66b4af4a5ab3a88c8c36722963",
   "display_name": "Python 3.7.10 64-bit ('impacts': conda)"
  }
 },
 "nbformat": 4,
 "nbformat_minor": 2,
 "cells": [
  {
   "cell_type": "markdown",
   "metadata": {},
   "source": [
    "# Plot Radar Cross-Sections\n",
    "## This notebook demonstrates how to read the radar files from the IMPACTS DAAC and make basic time-height plots of the flight legs"
   ]
  },
  {
   "cell_type": "markdown",
   "metadata": {},
   "source": [
    "### Begin by importing all the necessary libraries"
   ]
  },
  {
   "cell_type": "code",
   "execution_count": 1,
   "metadata": {},
   "outputs": [],
   "source": [
    "# TODO: figure out how to not need this at the beginning of every notebook\n",
    "import sys\n",
    "sys.path.append(\"../../src\")\n",
    "\n",
    "import numpy as np\n",
    "import matplotlib.pyplot as plt\n",
    "from impacts_tools import er2\n",
    "\n",
    "%matplotlib inline"
   ]
  },
  {
   "cell_type": "code",
   "execution_count": 2,
   "metadata": {},
   "outputs": [],
   "source": [
    "exrad_filepath = '/Users/victoria/projects/data/IMPACTS/exrad/IMPACTS2020_EXRAD_L1B_RevC_20200207.h5'\n",
    "\n",
    "hiwrap_filepath = '/Users/victoria/projects/data/IMPACTS/hiwrap/IMPACTS2020_HIWRAP_l1B_RevB_20200207.h5'\n",
    "\n",
    "vad_filepath = '/Users/victoria/projects/data/IMPACTS/VAD/IMPACTS_EXRAD-VAD_L3_20200207T150806_to_20200207T152406_synthetic_multiscan_VAD_analysis_v01r02.nc'"
   ]
  },
  {
   "cell_type": "code",
   "execution_count": 3,
   "metadata": {
    "tags": []
   },
   "outputs": [
    {
     "output_type": "execute_result",
     "data": {
      "text/plain": "<impacts_tools.er2.Exrad at 0x7f880866b1d0>"
     },
     "metadata": {},
     "execution_count": 3
    }
   ],
   "source": [
    "# load the exrad data as an IMPACTS_tools Exrad data object\n",
    "exrad = er2.Exrad(exrad_filepath)\n",
    "\n",
    "# the Exrad object stores the instrument data as an XArray dataset in a 'data' property\n",
    "exrad"
   ]
  },
  {
   "cell_type": "markdown",
   "metadata": {},
   "source": [
    "### Note how the dataset has two dimension, range and time. Using the impacts_tools radar object adds additional coordinates so it's easier to make different types of figures.\n",
    "\n",
    "\n",
    "### Each radar contains data for the entire flight. Usually, we're only interested in looking at subsets of the entire flight, such as flight legs that cross snowbands, and we want to ignore data where the aircraft is turning, travelling to the storm, or returning to base. We can find the time stamps for the flight legs of interest and use them to only load a subset of the data:"
   ]
  },
  {
   "cell_type": "code",
   "execution_count": 2,
   "metadata": {
    "tags": []
   },
   "outputs": [
    {
     "output_type": "error",
     "ename": "NameError",
     "evalue": "name 'exrad' is not defined",
     "traceback": [
      "\u001b[0;31m---------------------------------------------------------------------------\u001b[0m",
      "\u001b[0;31mNameError\u001b[0m                                 Traceback (most recent call last)",
      "\u001b[0;32m<ipython-input-2-97da853ce5cc>\u001b[0m in \u001b[0;36m<module>\u001b[0;34m\u001b[0m\n\u001b[0;32m----> 1\u001b[0;31m \u001b[0mflight_legs\u001b[0m \u001b[0;34m=\u001b[0m \u001b[0mexrad\u001b[0m\u001b[0;34m.\u001b[0m\u001b[0mget_flight_legs\u001b[0m\u001b[0;34m(\u001b[0m\u001b[0;34m)\u001b[0m\u001b[0;34m\u001b[0m\u001b[0;34m\u001b[0m\u001b[0m\n\u001b[0m",
      "\u001b[0;31mNameError\u001b[0m: name 'exrad' is not defined"
     ]
    }
   ],
   "source": [
    "flight_legs = exrad.get_flight_legs()"
   ]
  },
  {
   "cell_type": "code",
   "execution_count": 3,
   "metadata": {
    "tags": []
   },
   "outputs": [],
   "source": [
    "start_time = np.datetime64('2020-02-07T15:08:00')\n",
    "end_time = np.datetime64('2020-02-07T15:24:00')\n",
    "\n",
    "\n",
    "exrad_leg1 = er2.Exrad(exrad_filepath, start_time=start_time, end_time=end_time)"
   ]
  },
  {
   "cell_type": "code",
   "execution_count": null,
   "metadata": {
    "tags": []
   },
   "outputs": [],
   "source": [
    "print(exrad_leg1.lon)"
   ]
  },
  {
   "cell_type": "code",
   "execution_count": 4,
   "metadata": {
    "tags": []
   },
   "outputs": [],
   "source": [
    "fig = plt.figure(figsize=(10,10))\n",
    "\n",
    "X,Y = np.meshgrid(exrad_leg1.lon, exrad_leg1.range)\n",
    "\n",
    "#help(plt.pcolormesh)\n",
    "plt.pcolormesh(exrad_leg1.lon.values, exrad_leg1.height.values, exrad_leg1.dbz.values)\n",
    "\n",
    "plt.show()"
   ]
  },
  {
   "cell_type": "code",
   "execution_count": null,
   "metadata": {},
   "outputs": [],
   "source": []
  }
 ]
}